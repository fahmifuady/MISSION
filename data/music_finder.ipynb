{
 "cells": [
  {
   "cell_type": "code",
   "execution_count": 1,
   "metadata": {},
   "outputs": [
    {
     "name": "stdout",
     "output_type": "stream",
     "text": [
      "Requirement already satisfied: pandas in d:\\anaconda\\envs\\finalorbitproject\\lib\\site-packages (2.1.1)\n",
      "Requirement already satisfied: numpy in d:\\anaconda\\envs\\finalorbitproject\\lib\\site-packages (1.26.0)\n",
      "Requirement already satisfied: spotipy in d:\\anaconda\\envs\\finalorbitproject\\lib\\site-packages (2.23.0)\n",
      "Requirement already satisfied: lxml in d:\\anaconda\\envs\\finalorbitproject\\lib\\site-packages (4.9.3)\n",
      "Requirement already satisfied: python-dateutil>=2.8.2 in d:\\anaconda\\envs\\finalorbitproject\\lib\\site-packages (from pandas) (2.8.2)\n",
      "Requirement already satisfied: pytz>=2020.1 in d:\\anaconda\\envs\\finalorbitproject\\lib\\site-packages (from pandas) (2023.3.post1)\n",
      "Requirement already satisfied: tzdata>=2022.1 in d:\\anaconda\\envs\\finalorbitproject\\lib\\site-packages (from pandas) (2023.3)\n",
      "Requirement already satisfied: redis>=3.5.3 in d:\\anaconda\\envs\\finalorbitproject\\lib\\site-packages (from spotipy) (5.0.1)\n",
      "Requirement already satisfied: requests>=2.25.0 in d:\\anaconda\\envs\\finalorbitproject\\lib\\site-packages (from spotipy) (2.31.0)\n",
      "Requirement already satisfied: six>=1.15.0 in d:\\anaconda\\envs\\finalorbitproject\\lib\\site-packages (from spotipy) (1.16.0)\n",
      "Requirement already satisfied: urllib3>=1.26.0 in d:\\anaconda\\envs\\finalorbitproject\\lib\\site-packages (from spotipy) (1.26.16)\n",
      "Requirement already satisfied: async-timeout>=4.0.2 in d:\\anaconda\\envs\\finalorbitproject\\lib\\site-packages (from redis>=3.5.3->spotipy) (4.0.2)\n",
      "Requirement already satisfied: charset-normalizer<4,>=2 in d:\\anaconda\\envs\\finalorbitproject\\lib\\site-packages (from requests>=2.25.0->spotipy) (2.0.4)\n",
      "Requirement already satisfied: idna<4,>=2.5 in d:\\anaconda\\envs\\finalorbitproject\\lib\\site-packages (from requests>=2.25.0->spotipy) (3.4)\n",
      "Requirement already satisfied: certifi>=2017.4.17 in d:\\anaconda\\envs\\finalorbitproject\\lib\\site-packages (from requests>=2.25.0->spotipy) (2023.7.22)\n",
      "Note: you may need to restart the kernel to use updated packages.\n"
     ]
    }
   ],
   "source": [
    "# install required library\n",
    "%pip install pandas numpy spotipy lxml\n",
    "import pandas as pd\n",
    "import numpy as np"
   ]
  },
  {
   "cell_type": "code",
   "execution_count": 2,
   "metadata": {},
   "outputs": [
    {
     "data": {
      "text/html": [
       "<div>\n",
       "<style scoped>\n",
       "    .dataframe tbody tr th:only-of-type {\n",
       "        vertical-align: middle;\n",
       "    }\n",
       "\n",
       "    .dataframe tbody tr th {\n",
       "        vertical-align: top;\n",
       "    }\n",
       "\n",
       "    .dataframe thead th {\n",
       "        text-align: right;\n",
       "    }\n",
       "</style>\n",
       "<table border=\"1\" class=\"dataframe\">\n",
       "  <thead>\n",
       "    <tr style=\"text-align: right;\">\n",
       "      <th></th>\n",
       "      <th>Ekspresi</th>\n",
       "      <th>Gendre</th>\n",
       "      <th>Artist</th>\n",
       "      <th>Lagu</th>\n",
       "      <th>Tahun</th>\n",
       "    </tr>\n",
       "  </thead>\n",
       "  <tbody>\n",
       "    <tr>\n",
       "      <th>0</th>\n",
       "      <td>Bersemangat</td>\n",
       "      <td>Pop</td>\n",
       "      <td>Tv girl</td>\n",
       "      <td>lover rock</td>\n",
       "      <td>2014</td>\n",
       "    </tr>\n",
       "    <tr>\n",
       "      <th>1</th>\n",
       "      <td>Bersemangat</td>\n",
       "      <td>Rap</td>\n",
       "      <td>Eminem</td>\n",
       "      <td>Godzilla</td>\n",
       "      <td>2020</td>\n",
       "    </tr>\n",
       "    <tr>\n",
       "      <th>2</th>\n",
       "      <td>Sedih</td>\n",
       "      <td>Pop</td>\n",
       "      <td>JKT48</td>\n",
       "      <td>Aitikata</td>\n",
       "      <td>2018</td>\n",
       "    </tr>\n",
       "    <tr>\n",
       "      <th>3</th>\n",
       "      <td>Bersemangat</td>\n",
       "      <td>Rock</td>\n",
       "      <td>the sigit</td>\n",
       "      <td>all the time</td>\n",
       "      <td>2006</td>\n",
       "    </tr>\n",
       "    <tr>\n",
       "      <th>4</th>\n",
       "      <td>Netral</td>\n",
       "      <td>Indie</td>\n",
       "      <td>Idfitaf</td>\n",
       "      <td>Takut</td>\n",
       "      <td>2021</td>\n",
       "    </tr>\n",
       "  </tbody>\n",
       "</table>\n",
       "</div>"
      ],
      "text/plain": [
       "      Ekspresi Gendre     Artist          Lagu  Tahun\n",
       "0  Bersemangat    Pop    Tv girl    lover rock   2014\n",
       "1  Bersemangat    Rap     Eminem      Godzilla   2020\n",
       "2        Sedih    Pop      JKT48      Aitikata   2018\n",
       "3  Bersemangat   Rock  the sigit  all the time   2006\n",
       "4       Netral  Indie    Idfitaf         Takut   2021"
      ]
     },
     "execution_count": 2,
     "metadata": {},
     "output_type": "execute_result"
    }
   ],
   "source": [
    "df = pd.read_csv('cleaned_data.csv')\n",
    "df.head()"
   ]
  },
  {
   "cell_type": "code",
   "execution_count": 3,
   "metadata": {},
   "outputs": [
    {
     "data": {
      "text/plain": [
       "'https://accounts.spotify.com/authorize?client_id=5dd698be60cb4dc7a4c8c37f6d76f9f8&response_type=code&redirect_uri=http%3A%2F%2Flocalhost%3A8080&scope=playlist-modify-public'"
      ]
     },
     "execution_count": 3,
     "metadata": {},
     "output_type": "execute_result"
    }
   ],
   "source": [
    "import spotipy\n",
    "from spotipy.oauth2 import SpotifyOAuth\n",
    "from dotenv import load_dotenv\n",
    "from pathlib import Path\n",
    "import os\n",
    "\n",
    "load_dotenv(Path('../.env'))\n",
    "\n",
    "\n",
    "# auth purpose\n",
    "os.environ[\"SPOTIPY_CLIENT_ID\"] = os.getenv(\"CLIENT_ID\")\n",
    "os.environ[\"SPOTIPY_CLIENT_SECRET\"] = os.getenv(\"CLIENT_SECRET\")\n",
    "os.environ[\"SPOTIPY_REDIRECT_URI\"] = os.getenv(\"REDIRECT_URI\")\n",
    "\n",
    "\n",
    "auth_manager = SpotifyOAuth(scope=\"playlist-modify-public\", \n",
    "                            open_browser=False)\n",
    "\n",
    "# follow the generated link, copy your access token,\n",
    "# and put on your .env file\n",
    "auth_manager.get_authorize_url()"
   ]
  },
  {
   "cell_type": "code",
   "execution_count": 4,
   "metadata": {},
   "outputs": [
    {
     "name": "stdout",
     "output_type": "stream",
     "text": [
      "{'display_name': 'fahmi', 'external_urls': {'spotify': 'https://open.spotify.com/user/nj235rfuc9chpq9fpyl3fteig'}, 'href': 'https://api.spotify.com/v1/users/nj235rfuc9chpq9fpyl3fteig', 'id': 'nj235rfuc9chpq9fpyl3fteig', 'images': [], 'type': 'user', 'uri': 'spotify:user:nj235rfuc9chpq9fpyl3fteig', 'followers': {'href': None, 'total': 0}}\n"
     ]
    }
   ],
   "source": [
    "# auth purposes. make sure you fill your access token \n",
    "# on your .env file before run this block\n",
    "load_dotenv(Path('../.env'))\n",
    "access_token = os.getenv(\"ACCESS_TOKEN\")\n",
    "auth_manager.get_access_token(access_token, as_dict=False)\n",
    "\n",
    "spotify = spotipy.Spotify(auth_manager=auth_manager)\n",
    "\n",
    "user_dict = spotify.current_user()\n",
    "print(user_dict)"
   ]
  },
  {
   "cell_type": "code",
   "execution_count": 5,
   "metadata": {},
   "outputs": [
    {
     "data": {
      "text/html": [
       "<div>\n",
       "<style scoped>\n",
       "    .dataframe tbody tr th:only-of-type {\n",
       "        vertical-align: middle;\n",
       "    }\n",
       "\n",
       "    .dataframe tbody tr th {\n",
       "        vertical-align: top;\n",
       "    }\n",
       "\n",
       "    .dataframe thead th {\n",
       "        text-align: right;\n",
       "    }\n",
       "</style>\n",
       "<table border=\"1\" class=\"dataframe\">\n",
       "  <thead>\n",
       "    <tr style=\"text-align: right;\">\n",
       "      <th></th>\n",
       "      <th>Ekspresi</th>\n",
       "      <th>Gendre</th>\n",
       "      <th>Artist</th>\n",
       "      <th>Lagu</th>\n",
       "      <th>Tahun</th>\n",
       "      <th>spotify_uri</th>\n",
       "    </tr>\n",
       "  </thead>\n",
       "  <tbody>\n",
       "    <tr>\n",
       "      <th>0</th>\n",
       "      <td>Bersemangat</td>\n",
       "      <td>Pop</td>\n",
       "      <td>Tv girl</td>\n",
       "      <td>lover rock</td>\n",
       "      <td>2014</td>\n",
       "      <td>spotify:track:6dBUzqjtbnIa1TwYbyw5CM</td>\n",
       "    </tr>\n",
       "    <tr>\n",
       "      <th>1</th>\n",
       "      <td>Bersemangat</td>\n",
       "      <td>Rap</td>\n",
       "      <td>Eminem</td>\n",
       "      <td>Godzilla</td>\n",
       "      <td>2020</td>\n",
       "      <td>spotify:track:7FIWs0pqAYbP91WWM0vlTQ</td>\n",
       "    </tr>\n",
       "    <tr>\n",
       "      <th>2</th>\n",
       "      <td>Sedih</td>\n",
       "      <td>Pop</td>\n",
       "      <td>JKT48</td>\n",
       "      <td>Aitikata</td>\n",
       "      <td>2018</td>\n",
       "      <td>NaN</td>\n",
       "    </tr>\n",
       "    <tr>\n",
       "      <th>3</th>\n",
       "      <td>Bersemangat</td>\n",
       "      <td>Rock</td>\n",
       "      <td>the sigit</td>\n",
       "      <td>all the time</td>\n",
       "      <td>2006</td>\n",
       "      <td>spotify:track:60zomg1pGnaSrapCzO6aPG</td>\n",
       "    </tr>\n",
       "    <tr>\n",
       "      <th>4</th>\n",
       "      <td>Netral</td>\n",
       "      <td>Indie</td>\n",
       "      <td>Idfitaf</td>\n",
       "      <td>Takut</td>\n",
       "      <td>2021</td>\n",
       "      <td>NaN</td>\n",
       "    </tr>\n",
       "  </tbody>\n",
       "</table>\n",
       "</div>"
      ],
      "text/plain": [
       "      Ekspresi Gendre     Artist          Lagu  Tahun  \\\n",
       "0  Bersemangat    Pop    Tv girl    lover rock   2014   \n",
       "1  Bersemangat    Rap     Eminem      Godzilla   2020   \n",
       "2        Sedih    Pop      JKT48      Aitikata   2018   \n",
       "3  Bersemangat   Rock  the sigit  all the time   2006   \n",
       "4       Netral  Indie    Idfitaf         Takut   2021   \n",
       "\n",
       "                            spotify_uri  \n",
       "0  spotify:track:6dBUzqjtbnIa1TwYbyw5CM  \n",
       "1  spotify:track:7FIWs0pqAYbP91WWM0vlTQ  \n",
       "2                                   NaN  \n",
       "3  spotify:track:60zomg1pGnaSrapCzO6aPG  \n",
       "4                                   NaN  "
      ]
     },
     "execution_count": 5,
     "metadata": {},
     "output_type": "execute_result"
    }
   ],
   "source": [
    "# search for all song in dataset and append the link\n",
    "list_df = df.to_dict(orient='records')\n",
    "\n",
    "for item in list_df:\n",
    "    try:\n",
    "        result = spotify.search(\n",
    "            f\"\"\"track:{item['Lagu']} artist:{item['Artist']}\"\"\", type=\"track\", limit=1\n",
    "        )\n",
    "        if len(result[\"tracks\"][\"items\"]) > 0:\n",
    "            item[\"spotify_uri\"] = result[\"tracks\"][\"items\"][0][\"uri\"]\n",
    "        else:\n",
    "            item[\"spotify_uri\"] = np.nan\n",
    "    except spotipy.client.SpotifyException as e:\n",
    "        item[\"spotify_uri\"] = str(e.http_status) + \" - \" + e.msg\n",
    "\n",
    "df = pd.DataFrame(list_df)\n",
    "\n",
    "# preview data\n",
    "df.head()"
   ]
  },
  {
   "cell_type": "code",
   "execution_count": 6,
   "metadata": {},
   "outputs": [],
   "source": [
    "# clear null data\n",
    "df_clean = df.dropna()\n",
    "df_clean = df_clean[~df_clean['spotify_uri'].str.contains(\"Not found\")]\n",
    "\n",
    "df_clean.head()\n",
    "\n",
    "# save the result into csv format\n",
    "df_clean.to_csv('music_link.csv', index=False)"
   ]
  }
 ],
 "metadata": {
  "kernelspec": {
   "display_name": "FinalOrbitProject",
   "language": "python",
   "name": "python3"
  },
  "language_info": {
   "codemirror_mode": {
    "name": "ipython",
    "version": 3
   },
   "file_extension": ".py",
   "mimetype": "text/x-python",
   "name": "python",
   "nbconvert_exporter": "python",
   "pygments_lexer": "ipython3",
   "version": "3.10.13"
  }
 },
 "nbformat": 4,
 "nbformat_minor": 2
}
